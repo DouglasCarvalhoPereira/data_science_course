{
 "cells": [
  {
   "cell_type": "markdown",
   "metadata": {},
   "source": [
    "# Módulo 5 Tarefa 1\n",
    "## Base de nascidos vivos do DataSUS\n",
    "O DataSUS disponibiliza diversos arquivos de dados com relação a seus segurados, conforme a [lei da transparência de informações públicas](https://www.sisgov.com/transparencia-acesso-informacao/#:~:text=A%20Lei%20da%20Transpar%C3%AAncia%20(LC,em%20um%20site%20na%20internet.). \n",
    "\n",
    "Essas informações podem ser obtidas pela internet [aqui](http://www2.datasus.gov.br/DATASUS/index.php?area=0901&item=1). Como o processo de obtenção desses arquivos foge um pouco do nosso escopo, deixamos o arquivo ```SINASC_RO_2019.csv``` já como vai ser encontrado no DataSUS. O dicionário de dados está no arquivo ```estrutura_sinasc_para_CD.pdf``` (o nome do arquivo tal qual no portal do DataSUS).\n",
    "\n",
    "### Nosso objetivo\n",
    "Queremos deixar uma base organizada para podermos estudar a relação entre partos com risco para o bebê e algumas condições como tempo de parto, consultas de pré-natal etc.\n",
    "\n",
    "#### Preparação da base\n",
    "1. Carregue a base 'SINASC_RO_2019.csv'. Conte o número de registros e o número de registros não duplicados da base. Dica: você aprendeu um método que remove duplicados, encadeie este método com um outro método que conta o número de linhas. **Há linhas duplicadas?**  \n",
    "\n",
    "2. Conte o número de valores *missing* por variável.  \n",
    "\n",
    "3. Ok, no item anterior você deve ter achado pouco prático ler a informação de tantas variáveis, muitas delas nem devem ser interesantes. Então crie uma seleção dessa base somente com as colunas que interessam. São elas:\n",
    "``` \n",
    "['LOCNASC', 'IDADEMAE', 'ESTCIVMAE', 'ESCMAE', 'QTDFILVIVO', \n",
    "    'GESTACAO', 'GRAVIDEZ', 'CONSULTAS', 'APGAR5'] \n",
    "```\n",
    "Refaça a contagem de valores *missings*.  \n",
    "\n",
    "4. Apgar é uma *nota* que o pediatra dá ao bebê quando nasce de acordo com algumas características associadas principalmente à respiração. Apgar 1 e Apgar 5 são as notas 1 e 5 minutos do nascimento. Apgar5 será a nossa variável de interesse principal. Então remova todos os registros com Apgar5 não preenchido. Para esta seleção, conte novamente o número de linhas e o número de *missings*.  \n",
    "\n",
    "5. observe que as variáveis ```['ESTCIVMAE', 'CONSULTAS']``` possuem o código ```9```, que significa *ignorado*. Vamos assumir que o não preenchido é o mesmo que o código ```9```.<br>\n",
    "6. Substitua os valores faltantes da quantitativa (```QTDFILVIVO```) por zero.  \n",
    "7. Das restantes, decida que valore te parece mais adequado (um 'não preenchido' ou um valor 'mais provável' como no item anterior) e preencha. Justifique. Lembre-se de que tratamento de dados é trabalho do cientista, e que estamos tomando decisões a todo o momento - não há necessariamente certo e errado aqui.  \n",
    "8. O Apgar possui uma classificação indicando se o bebê passou por asfixia:\n",
    "- Entre 8 e 10 está em uma faixa 'normal'. \n",
    "- Entre 6 e 7, significa que o recém-nascido passou por 'asfixia leve'. \n",
    "- Entre 4 e 5 significa 'asfixia moderada'.\n",
    "- Entre 0 e 3 significa 'asfixia severa'.  \n",
    "\n",
    "Crie uma categorização dessa variável com essa codificação e calcule as frequências dessa categorização.  \n",
    "<br>\n",
    "9. Renomeie as variáveis para que fiquem no *snake case*, ou seja, em letras minúsculas, com um *underscore* entre as palávras. Dica: repare que se você não quiser criar um *dataframe* novo, você vai precisar usar a opção ```inplace = True```."
   ]
  },
  {
   "cell_type": "markdown",
   "metadata": {},
   "source": [
    " - Na célula abaixo o arquivo com os dados foi importado. Na sequência a quantidade de linhas e colunas foram atribuídas as variáveis \n",
    "**lines** e **columns**."
   ]
  },
  {
   "cell_type": "code",
   "execution_count": 861,
   "metadata": {},
   "outputs": [
    {
     "name": "stdout",
     "output_type": "stream",
     "text": [
      "(27028, 69)\n"
     ]
    }
   ],
   "source": [
    "import pandas as pd\n",
    "import numpy as np\n",
    "import requests\n",
    "\n",
    "# 1) seu código aqui\n",
    "sinasc = pd.read_csv('SINASC_RO_2019.csv')\n",
    "print(sinasc.shape)\n",
    "lines, columns = sinasc.drop_duplicates().shape\n",
    "# Não há duplicados"
   ]
  },
  {
   "cell_type": "markdown",
   "metadata": {},
   "source": [
    "Dados faltantes e cada coluna, por ordem decrescente."
   ]
  },
  {
   "cell_type": "code",
   "execution_count": 862,
   "metadata": {
    "scrolled": true
   },
   "outputs": [
    {
     "data": {
      "text/plain": [
       "DTRECORIGA      27028\n",
       "CODANOMAL       26814\n",
       "IDADEPAI        19421\n",
       "SERIESCMAE      12710\n",
       "DTULTMENST      10072\n",
       "CODOCUPMAE       2907\n",
       "MESPRENAT        2867\n",
       "QTDFILMORT       2098\n",
       "QTDPARTNOR       1879\n",
       "QTDPARTCES       1791\n",
       "QTDFILVIVO       1573\n",
       "SEMAGESTAC       1238\n",
       "TPMETESTIM       1238\n",
       "GESTACAO         1232\n",
       "QTDGESTANT       1212\n",
       "STTRABPART        947\n",
       "CONSPRENAT        930\n",
       "STCESPARTO        747\n",
       "RACACORMAE        661\n",
       "RACACOR           647\n",
       "IDANOMAL          591\n",
       "ESTCIVMAE         317\n",
       "ESCMAE            312\n",
       "CODUFNATU         298\n",
       "NATURALMAE        298\n",
       "CODMUNNATU        298\n",
       "TPAPRESENT        265\n",
       "ESCMAE2010        249\n",
       "ESCMAEAGR1        249\n",
       "CODESTAB          115\n",
       "APGAR5            103\n",
       "APGAR1             96\n",
       "GRAVIDEZ           79\n",
       "TPFUNCRESP         67\n",
       "TPNASCASSI         61\n",
       "DTDECLARAC         52\n",
       "PARTO              49\n",
       "DTNASCMAE          40\n",
       "HORANASC           21\n",
       "TPDOCRESP          14\n",
       "SEXO                4\n",
       "munResLat           1\n",
       "munResLon           1\n",
       "munResAlt           1\n",
       "munResArea          1\n",
       "DIFDATA             0\n",
       "DTRECEBIM           0\n",
       "CODMUNNASC          0\n",
       "LOCNASC             0\n",
       "IDADEMAE            0\n",
       "munResUf            0\n",
       "munResNome          0\n",
       "munResTipo          0\n",
       "munResStatus        0\n",
       "CONTADOR            0\n",
       "KOTELCHUCK          0\n",
       "PARIDADE            0\n",
       "TPROBSON            0\n",
       "CODPAISRES          0\n",
       "STDNNOVA            0\n",
       "dtype: int64"
      ]
     },
     "execution_count": 862,
     "metadata": {},
     "output_type": "execute_result"
    }
   ],
   "source": [
    "sinasc.isnull().sum().sort_values(ascending=False).head(60)"
   ]
  },
  {
   "cell_type": "markdown",
   "metadata": {},
   "source": [
    "Logo abaixo foram selecionadas apenas as colunas relevantes para a análise.\n",
    "\n",
    "- Cada coluna apresenta o percentual de dados faltantes.\n"
   ]
  },
  {
   "cell_type": "code",
   "execution_count": 863,
   "metadata": {},
   "outputs": [],
   "source": [
    "sinasc = sinasc[['LOCNASC', 'IDADEMAE', 'ESTCIVMAE', 'ESCMAE', 'QTDFILVIVO', \n",
    "                    'GESTACAO', 'GRAVIDEZ', 'CONSULTAS', 'APGAR5']]"
   ]
  },
  {
   "cell_type": "code",
   "execution_count": 864,
   "metadata": {},
   "outputs": [
    {
     "data": {
      "text/plain": [
       "QTDFILVIVO    5.819890\n",
       "GESTACAO      4.558236\n",
       "ESTCIVMAE     1.172858\n",
       "ESCMAE        1.154358\n",
       "APGAR5        0.381086\n",
       "GRAVIDEZ      0.292289\n",
       "LOCNASC       0.000000\n",
       "IDADEMAE      0.000000\n",
       "CONSULTAS     0.000000\n",
       "dtype: float64"
      ]
     },
     "execution_count": 864,
     "metadata": {},
     "output_type": "execute_result"
    }
   ],
   "source": [
    "sinasc.isnull().sum().sort_values(ascending=False) / lines * 100"
   ]
  },
  {
   "cell_type": "markdown",
   "metadata": {},
   "source": [
    "A coluna APGAR5 possui uma quantidade pequena de dados faltantes(NaN), o que não interferiria na nossa análise. Sendo assim excluímos os mesmos."
   ]
  },
  {
   "cell_type": "code",
   "execution_count": 865,
   "metadata": {},
   "outputs": [],
   "source": [
    "sinasc.dropna(subset=['APGAR5'], inplace=True)"
   ]
  },
  {
   "cell_type": "code",
   "execution_count": 866,
   "metadata": {
    "scrolled": true
   },
   "outputs": [
    {
     "data": {
      "text/plain": [
       "QTDFILVIVO    5.793991\n",
       "GESTACAO      4.499038\n",
       "ESTCIVMAE     1.165458\n",
       "ESCMAE        1.146959\n",
       "GRAVIDEZ      0.281190\n",
       "LOCNASC       0.000000\n",
       "IDADEMAE      0.000000\n",
       "CONSULTAS     0.000000\n",
       "APGAR5        0.000000\n",
       "dtype: float64"
      ]
     },
     "execution_count": 866,
     "metadata": {},
     "output_type": "execute_result"
    }
   ],
   "source": [
    "sinasc.isnull().sum().sort_values(ascending=False) / lines * 100"
   ]
  },
  {
   "cell_type": "markdown",
   "metadata": {},
   "source": [
    "As colunas ```ESTCIVMAE``` e ```CONSULTAS``` possuem o valor *9* como dado IGNORADO e por isso os, substituímos todos os dados faltantes por ```9```"
   ]
  },
  {
   "cell_type": "code",
   "execution_count": 867,
   "metadata": {
    "scrolled": true
   },
   "outputs": [],
   "source": [
    "sinasc[sinasc['ESTCIVMAE'].isnull()] = 9\n",
    "sinasc[sinasc['CONSULTAS'].isnull()] = 9"
   ]
  },
  {
   "cell_type": "markdown",
   "metadata": {},
   "source": [
    "A coluna ```QTDFILVIVO``` é referente ao número de filhos vivos, o que não causaria nenhum impacto susbtituir os dados faltantes por ```0```."
   ]
  },
  {
   "cell_type": "code",
   "execution_count": 868,
   "metadata": {},
   "outputs": [],
   "source": [
    "sinasc[sinasc['QTDFILVIVO'].isnull()] = 0"
   ]
  },
  {
   "cell_type": "code",
   "execution_count": 869,
   "metadata": {},
   "outputs": [
    {
     "data": {
      "text/plain": [
       "GESTACAO      4.006956\n",
       "ESCMAE        0.899068\n",
       "GRAVIDEZ      0.236791\n",
       "LOCNASC       0.000000\n",
       "IDADEMAE      0.000000\n",
       "ESTCIVMAE     0.000000\n",
       "QTDFILVIVO    0.000000\n",
       "CONSULTAS     0.000000\n",
       "APGAR5        0.000000\n",
       "dtype: float64"
      ]
     },
     "execution_count": 869,
     "metadata": {},
     "output_type": "execute_result"
    }
   ],
   "source": [
    "sinasc.isna().sum().sort_values(ascending=False) / lines * 100"
   ]
  }
 ],
 "metadata": {
  "kernelspec": {
   "display_name": "Python 3 (ipykernel)",
   "language": "python",
   "name": "python3"
  },
  "language_info": {
   "codemirror_mode": {
    "name": "ipython",
    "version": 3
   },
   "file_extension": ".py",
   "mimetype": "text/x-python",
   "name": "python",
   "nbconvert_exporter": "python",
   "pygments_lexer": "ipython3",
   "version": "3.9.7"
  }
 },
 "nbformat": 4,
 "nbformat_minor": 4
}
